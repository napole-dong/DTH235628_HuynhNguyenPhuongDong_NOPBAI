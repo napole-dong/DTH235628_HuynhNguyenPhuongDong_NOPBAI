{
 "cells": [
  {
   "cell_type": "markdown",
   "id": "4b2e917c",
   "metadata": {},
   "source": [
    "## Cau1:  Kiểm tra năm nhuần"
   ]
  },
  {
   "cell_type": "code",
   "execution_count": null,
   "id": "431f5bf4",
   "metadata": {},
   "outputs": [],
   "source": [
    "print(\"Chương trình kiểm tra năm nhuần\") \n",
    "year=int(input(\"Mời Thím nhập vào 1 năm:\")) \n",
    "if (year % 4 ==0 and year % 100 != 0) or year % 400 == 0: \n",
    "    print(\"Năm \", year, \" là năm nhuần\")    \n",
    "else: \n",
    "    print(\"Năm \", year, \" không nhuần\")"
   ]
  },
  {
   "cell_type": "markdown",
   "id": "860a8c92",
   "metadata": {},
   "source": [
    "## Câu 2: Đếm số ngày trong tháng "
   ]
  },
  {
   "cell_type": "code",
   "execution_count": null,
   "id": "1b0f0861",
   "metadata": {},
   "outputs": [],
   "source": [
    "print(\"Chương trình đếm số ngày trong tháng\") \n",
    "month=int(input(\"Nhập vào 1 tháng:\")) \n",
    "if month in (1,3,5,7,8,10,12): \n",
    "    print(\"Tháng \", month, \" có 31 ngày\") \n",
    "elif month in (4,6,9,11): \n",
    "    print(\"Tháng \", month, \" có 30 ngày\") \n",
    "elif month==2: \n",
    "    year=int(input(\"Mời bạn nhập vào năm:\")) \n",
    "    if (year % 4 ==0 and year % 100 != 0) or year % 400 ==0: \n",
    "        print(\"Tháng \",month, \" có 29 ngày\") \n",
    "    else: \n",
    "        print(\"Tháng \", month, \" có 28 ngày\") \n",
    "else: \n",
    "    print(\"Tháng \", month, \" không hợp lệ\")"
   ]
  },
  {
   "cell_type": "markdown",
   "id": "d721b650",
   "metadata": {},
   "source": [
    "## Câu 3: Phương trình bậc 2 "
   ]
  },
  {
   "cell_type": "code",
   "execution_count": null,
   "id": "fdcee39c",
   "metadata": {},
   "outputs": [],
   "source": [
    "from math import sqrt  \n",
    "print(\"Chương trình Giải Phương trình bậc 2\") \n",
    "a=float(input(\"Nhập a:\")) \n",
    "b=float(input(\"Nhập b:\")) \n",
    "c=float(input(\"Nhập c:\")) \n",
    "if a == 0: \n",
    "    #bx+c=0 \n",
    "    if b == 0 and c ==0: \n",
    "        print(\"Vô số nghiệm\") \n",
    "    elif b==0 and c !=0: \n",
    "        print(\"Vô nghiệm\") \n",
    "    else:\n",
    "        x=-c/b \n",
    "        print(\"No x=\",x) \n",
    "else: \n",
    "    delta=b**2-4*a*c \n",
    "    if delta <0 : \n",
    "        print(\"Vô No\") \n",
    "    elif delta ==0: \n",
    "        x=-b/(2*a) \n",
    "        print(\"No kép x1=x2=\",x) \n",
    "    else: \n",
    "        x1=(-b-sqrt(delta))/(2*a) \n",
    "        x2=(-b+sqrt(delta))/(2*a) \n",
    "        print(\"x1=\",x1) \n",
    "        print(\"x2=\",x2) "
   ]
  },
  {
   "cell_type": "markdown",
   "id": "13b0096e",
   "metadata": {},
   "source": [
    "## Câu 4: Hãy cho biết kết quả của Boolean Expression "
   ]
  },
  {
   "cell_type": "code",
   "execution_count": null,
   "id": "3126a872",
   "metadata": {},
   "outputs": [],
   "source": [
    "x, y, z = 3, 5, 7\n",
    "print(\"(a)\", x == 3)           # True\n",
    "print(\"(b)\", x < y)            # True\n",
    "print(\"(c)\", x >= y)           # False\n",
    "print(\"(d)\", x <= y)           # True\n",
    "print(\"(e)\", x != y - 2)       # False (x = 3, y-2 = 3)\n",
    "print(\"(f)\", x < 10)           # True\n",
    "print(\"(g)\", x >= 0 and x < 10) # True\n",
    "print(\"(h)\", x < 0 and x < 10)  # False (x < 0 là False)\n",
    "print(\"(i)\", x >= 0 and x < 2)  # False (x < 2 là False)\n",
    "print(\"(j)\", x < 0 or x < 10)   # True (x < 10 là True)\n",
    "print(\"(k)\", x > 0 or x < 10)   # True (x > 0 là True)\n",
    "print(\"(l)\", x < 0 or x > 10)   # False"
   ]
  },
  {
   "cell_type": "markdown",
   "id": "2579233f",
   "metadata": {},
   "source": [
    "## Câu 5: Hãy cho biết kết quả xuất ra màn hình "
   ]
  },
  {
   "cell_type": "code",
   "execution_count": null,
   "id": "94aeaf0c",
   "metadata": {},
   "outputs": [],
   "source": [
    "def test_ijk(i, j, k):\n",
    "    if i < j:\n",
    "        if j < k:\n",
    "            i = j\n",
    "        else:\n",
    "            j = k\n",
    "    else:\n",
    "        if j > k:\n",
    "            j = i\n",
    "        else:\n",
    "            i = k\n",
    "    print(f\"i = {i}, j = {j}, k = {k}\")\n",
    "\n",
    "# Các trường hợp đề bài\n",
    "test_cases = [\n",
    "    (3, 5, 7),\n",
    "    (3, 7, 5),\n",
    "    (5, 3, 7),\n",
    "    (5, 7, 3),\n",
    "    (7, 3, 5),\n",
    "    (7, 5, 3)\n",
    "]\n",
    "for idx, (i, j, k) in enumerate(test_cases, start=1):\n",
    "    print(f\"Trường hợp ({chr(96+idx)}): i={i}, j={j}, k={k}\")\n",
    "    test_ijk(i, j, k)\n",
    "    print(\"-\")"
   ]
  },
  {
   "cell_type": "markdown",
   "id": "43438eca",
   "metadata": {},
   "source": [
    "## Câu 6: Nhập một số n có tối đa 2 chữ số. Hãy cho biết cách đọc ra dạng chữ.  \n",
    "# (vd: n=35 => Ba mươi lăm, n=5 => năm)."
   ]
  },
  {
   "cell_type": "code",
   "execution_count": null,
   "id": "d78a9777",
   "metadata": {},
   "outputs": [],
   "source": [
    "def doc_so(n):\n",
    "    hang_don_vi = [\"\", \"một\", \"hai\", \"ba\", \"bốn\", \"năm\", \"sáu\", \"bảy\", \"tám\", \"chín\"]\n",
    "    hang_chuc = [\"\", \"mười\", \"hai mươi\", \"ba mươi\", \"bốn mươi\", \"năm mươi\", \"sáu mươi\", \"bảy mươi\", \"tám mươi\", \"chín mươi\"]\n",
    "    if n < 10:\n",
    "        print(hang_don_vi[n])\n",
    "    elif n < 100:\n",
    "        chuc = n // 10\n",
    "        donvi = n % 10\n",
    "        if donvi == 0:\n",
    "            print(hang_chuc[chuc])\n",
    "        elif chuc == 1:\n",
    "            print(f\"mười {hang_don_vi[donvi]}\")\n",
    "        else:\n",
    "            if donvi == 5:\n",
    "                print(f\"{hang_chuc[chuc]} lăm\")\n",
    "            elif donvi == 1:\n",
    "                print(f\"{hang_chuc[chuc]} mốt\")\n",
    "            else:\n",
    "                print(f\"{hang_chuc[chuc]} {hang_don_vi[donvi]}\")\n",
    "    else:\n",
    "        print(\"Chỉ nhập số có tối đa 2 chữ số!\")\n",
    "\n",
    "n = int(input(\"Nhập số n (tối đa 2 chữ số): \"))\n",
    "doc_so(n)"
   ]
  },
  {
   "cell_type": "markdown",
   "id": "783bc102",
   "metadata": {},
   "source": [
    "## Câu 7: Nhập vào một ngày (ngày, tháng, năm). Tìm ngày kế sau ngày vừa nhập (ngày/tháng/năm)."
   ]
  },
  {
   "cell_type": "code",
   "execution_count": null,
   "id": "5efda5c1",
   "metadata": {},
   "outputs": [],
   "source": [
    "def is_leap_year(year):\n",
    "    return (year % 4 == 0 and year % 100 != 0) or (year % 400 == 0)\n",
    "\n",
    "def days_in_month(month, year):\n",
    "    if month in [1, 3, 5, 7, 8, 10, 12]:\n",
    "        return 31\n",
    "    elif month in [4, 6, 9, 11]:\n",
    "        return 30\n",
    "    elif month == 2:\n",
    "        return 29 if is_leap_year(year) else 28\n",
    "    else:\n",
    "        return 0\n",
    "\n",
    "def next_day(day, month, year):\n",
    "    d = day + 1\n",
    "    m = month\n",
    "    y = year\n",
    "    dim = days_in_month(month, year)\n",
    "    if d > dim:\n",
    "        d = 1\n",
    "        m += 1\n",
    "        if m > 12:\n",
    "            m = 1\n",
    "            y += 1\n",
    "    return d, m, y\n",
    "\n",
    "print(\"Chương trình tìm ngày kế tiếp\")\n",
    "day = int(input(\"Nhập ngày: \"))\n",
    "month = int(input(\"Nhập tháng: \"))\n",
    "year = int(input(\"Nhập năm: \"))\n",
    "\n",
    "if 1 <= month <= 12 and 1 <= day <= days_in_month(month, year):\n",
    "    d, m, y = next_day(day, month, year)\n",
    "    print(f\"Ngày kế tiếp là: {d}/{m}/{y}\")\n",
    "else:\n",
    "    print(\"Ngày tháng năm không hợp lệ!\")"
   ]
  },
  {
   "cell_type": "markdown",
   "id": "46a8d3ab",
   "metadata": {},
   "source": [
    "## Câu 8: Nhập vào 2 giá trị a, b và phép toán ‘+’, ‘-’, ‘*’, ‘/’ . Hãy xuất kết quả theo đúng phép toán đã nhập. "
   ]
  },
  {
   "cell_type": "code",
   "execution_count": null,
   "id": "e8551b91",
   "metadata": {},
   "outputs": [],
   "source": [
    "print(\"Chương trình thực hiện phép toán trên hai số a và b\")\n",
    "a = float(input(\"Nhập số a: \"))\n",
    "b = float(input(\"Nhập số b: \"))\n",
    "phep_toan = input(\"Nhập phép toán (+, -, *, /): \")\n",
    "\n",
    "if phep_toan == '+':\n",
    "    print(f\"{a} + {b} = {a + b}\")\n",
    "elif phep_toan == '-':\n",
    "    print(f\"{a} - {b} = {a - b}\")\n",
    "elif phep_toan == '*':\n",
    "    print(f\"{a} * {b} = {a * b}\")\n",
    "elif phep_toan == '/':\n",
    "    if b != 0:\n",
    "        print(f\"{a} / {b} = {a / b}\")\n",
    "    else:\n",
    "        print(\"Không thể chia cho 0!\")\n",
    "else:\n",
    "    print(\"Phép toán không hợp lệ!\")"
   ]
  },
  {
   "cell_type": "markdown",
   "id": "277a80b3",
   "metadata": {},
   "source": [
    "## Câu 9: Nhập vào 1 tháng, xuất ra tháng đó thuộc quý mấy trong năm. "
   ]
  },
  {
   "cell_type": "code",
   "execution_count": null,
   "id": "0ffb760d",
   "metadata": {},
   "outputs": [],
   "source": [
    "print(\"Chương trình xác định quý của tháng\")\n",
    "month = int(input(\"Nhập tháng (1-12): \"))\n",
    "if 1 <= month <= 12:\n",
    "    if month <= 3:\n",
    "        print(f\"Tháng {month} thuộc quý 1\")\n",
    "    elif month <= 6:\n",
    "        print(f\"Tháng {month} thuộc quý 2\")\n",
    "    elif month <= 9:\n",
    "        print(f\"Tháng {month} thuộc quý 3\")\n",
    "    else:\n",
    "        print(f\"Tháng {month} thuộc quý 4\")\n",
    "else:\n",
    "    print(\"Tháng không hợp lệ!\")"
   ]
  },
  {
   "cell_type": "markdown",
   "id": "b1fdac73",
   "metadata": {},
   "source": [
    "## Câu 10: Tính dãy số\n",
    "\n",
    "**Yêu cầu:**\n",
    "Cho biểu thức toán học sau:\n",
    "\n",
    "Tính $S(x, n) = x + \\frac{x^2}{2!} + \\frac{x^3}{3!} + ... + \\frac{x^n}{n!}$\n",
    "\n",
    "Viết chương trình cho phép nhập x, n và xuất ra kết quả của biểu thức."
   ]
  },
  {
   "cell_type": "code",
   "execution_count": null,
   "id": "0beb9a0d",
   "metadata": {},
   "outputs": [],
   "source": [
    "from math import factorial\n",
    "print(\"Chương trình tính dãy số S(x, n)\")\n",
    "x = float(input(\"Nhập x: \"))\n",
    "n = int(input(\"Nhập n: \"))\n",
    "S = 0.0\n",
    "for i in range(1, n+1):\n",
    "    S += x**i / factorial(i)\n",
    "print(f\"Kết quả S(x, n) = {S}\")"
   ]
  },
  {
   "cell_type": "markdown",
   "id": "b0ae1dff",
   "metadata": {},
   "source": [
    "## Câu 11: Kiểm tra số nguyên tố \n"
   ]
  },
  {
   "cell_type": "code",
   "execution_count": null,
   "id": "1eaa2d2d",
   "metadata": {},
   "outputs": [],
   "source": [
    "print(\"Chương trình kiểm tra số nguyên tố\")\n",
    "n = int(input(\"Nhập số nguyên n: \"))\n",
    "if n < 2:\n",
    "    print(f\"{n} không phải là số nguyên tố\")\n",
    "else:\n",
    "    is_prime = True\n",
    "    for i in range(2, int(n**0.5)+1):\n",
    "        if n % i == 0:\n",
    "            is_prime = False\n",
    "            break\n",
    "    if is_prime:\n",
    "        print(f\"{n} là số nguyên tố\")\n",
    "    else:\n",
    "        print(f\"{n} không phải là số nguyên tố\")"
   ]
  },
  {
   "cell_type": "markdown",
   "id": "9f226b74",
   "metadata": {},
   "source": [
    "## Câu 12: Xuất bảng cửu chương "
   ]
  },
  {
   "cell_type": "code",
   "execution_count": null,
   "id": "74bcbb00",
   "metadata": {},
   "outputs": [],
   "source": [
    "print(\"Bảng cửu chương từ 2 đến 9:\")\n",
    "for i in range(1, 11):\n",
    "    for j in range(2, 10):\n",
    "        print(f\"{j} * {i} = {j*i}\", end=\"\\t\")\n",
    "    print()"
   ]
  },
  {
   "cell_type": "markdown",
   "id": "1c4b960a",
   "metadata": {},
   "source": [
    "## Câu 13: Cho biết bao nhiêu dấu * được in ra trên màn hình "
   ]
  },
  {
   "cell_type": "code",
   "execution_count": null,
   "id": "1d3e8dec",
   "metadata": {},
   "outputs": [],
   "source": [
    "a = 0\n",
    "count = 0\n",
    "while a < 100:\n",
    "    print('*', end='')\n",
    "    count += 1\n",
    "    a += 1\n",
    "print()\n",
    "print(f\"Có {count} dấu * được in ra trên màn hình.\")"
   ]
  },
  {
   "cell_type": "markdown",
   "id": "29891393",
   "metadata": {},
   "source": [
    "## Câu 14: Cho biết bao nhiêu dấu * được in ra trên màn hình"
   ]
  },
  {
   "cell_type": "code",
   "execution_count": null,
   "id": "1df163b2",
   "metadata": {},
   "outputs": [],
   "source": [
    "\n",
    "count = 0\n",
    "a = 0\n",
    "while a < 100:\n",
    "    b = 0\n",
    "    while b < 40:\n",
    "        if (a + b) % 2 == 0:\n",
    "            print('*', end='')\n",
    "            count += 1\n",
    "        b += 1\n",
    "    print()\n",
    "    a += 1\n",
    "print(f\"Tổng số dấu * được in ra là: {count}\")"
   ]
  },
  {
   "cell_type": "markdown",
   "id": "44c21901",
   "metadata": {},
   "source": [
    "## Câu 15: Giải thích cách chạy các dòng lệnh range\n",
    "\n",
    "**Giải thích:**\n",
    "- `range(start, stop, step)` tạo ra một dãy số bắt đầu từ `start` đến nhỏ hơn `stop`, với bước nhảy là `step` (mặc định là 1).\n",
    "- Nếu chỉ truyền 1 tham số: `range(stop)` thì mặc định bắt đầu từ 0.\n",
    "- Nếu bước nhảy là số âm, dãy sẽ giảm dần.\n",
    "- Nếu không thể đi từ `start` đến `stop` với bước nhảy, dãy sẽ rỗng.\n",
    "\n",
    "**Kết quả từng trường hợp:**"
   ]
  },
  {
   "cell_type": "code",
   "execution_count": null,
   "id": "f5ef9071",
   "metadata": {},
   "outputs": [],
   "source": [
    "print(\"(a) range(5):\", list(range(5)))\n",
    "print(\"(b) range(5, 10):\", list(range(5, 10)))\n",
    "print(\"(c) range(5, 20, 3):\", list(range(5, 20, 3)))\n",
    "print(\"(d) range(20, 5, -1):\", list(range(20, 5, -1)))\n",
    "print(\"(e) range(20, 5, -3):\", list(range(20, 5, -3)))\n",
    "print(\"(f) range(10, 5):\", list(range(10, 5)))\n",
    "print(\"(g) range(0):\", list(range(0)))\n",
    "print(\"(h) range(10, 101, 10):\", list(range(10, 101, 10)))\n",
    "print(\"(i) range(10, -1, -1):\", list(range(10, -1, -1)))\n",
    "print(\"(j) range(-3, 4):\", list(range(-3, 4)))\n",
    "print(\"(k) range(0, 10, 1):\", list(range(0, 10, 1)))"
   ]
  },
  {
   "cell_type": "markdown",
   "id": "3fb1f164",
   "metadata": {},
   "source": [
    "## cau 16: Cho biết bao nhiêu dấu * được in ra trên màn hình "
   ]
  },
  {
   "cell_type": "code",
   "execution_count": null,
   "id": "8d767a69",
   "metadata": {},
   "outputs": [],
   "source": [
    "count = 0\n",
    "for a in range(20, 100, 5):\n",
    "    print('*', end='')\n",
    "    count += 1\n",
    "print()\n",
    "print(f\"Tổng số dấu * được in ra là: {count}\")"
   ]
  },
  {
   "cell_type": "markdown",
   "id": "cb026ca0",
   "metadata": {},
   "source": [
    "## Câu 17: Viết lại coding dưới đây bằng cách dùng từ khóa break thay thế cho biến done "
   ]
  },
  {
   "cell_type": "code",
   "execution_count": null,
   "id": "420e88cf",
   "metadata": {},
   "outputs": [],
   "source": [
    "n, m = 0, 100\n",
    "while n != m:\n",
    "    n = int(input())\n",
    "    if n < 0:\n",
    "        break\n",
    "print(\"n =\", n)"
   ]
  },
  {
   "cell_type": "markdown",
   "id": "4f06bc83",
   "metadata": {},
   "source": [
    "## Câu 18: Vẽ các hình dưới đây"
   ]
  },
  {
   "cell_type": "code",
   "execution_count": null,
   "id": "b371a9bc",
   "metadata": {},
   "outputs": [],
   "source": [
    "try:\n",
    "    while True:  \n",
    "        n = int(input(\"Nhập vào chiều cao n: \"))\n",
    "        chon = input(\"Nhập hình bạn muốn chọn (1-3, hoặc 'e' để thoát): \").lower().strip()\n",
    "\n",
    "        if chon == \"e\":   \n",
    "            print(\"Thoát chương trình!\")\n",
    "            break\n",
    "\n",
    "       \n",
    "        options = [\n",
    "            [\"1\", \"mot\", \"một\", \"hình 1\", \"hinh 1\", \"hinh mot\", \"hình một\"],\n",
    "            [\"2\", \"hai\", \"hình 2\", \"hinh 2\", \"hinh hai\", \"hình hai\"],\n",
    "            [\"3\", \"ba\", \"hình 3\", \"hinh 3\", \"hinh ba\", \"hình ba\"]\n",
    "        ]\n",
    "\n",
    "        chon_num = 0\n",
    "        for idx, keywords in enumerate(options, start=1):\n",
    "            if chon in keywords:\n",
    "                chon_num = idx\n",
    "                break\n",
    "\n",
    "        if chon_num == 1:\n",
    "          \n",
    "            for i in range(n):\n",
    "                for j in range(n):\n",
    "                    if i == 0 or i == n-1 or j == 0 or j == n-1:\n",
    "                        print(\"*\", end=\" \")\n",
    "                    else:\n",
    "                        print(\" \", end=\" \")\n",
    "                print()\n",
    "\n",
    "        elif chon_num == 2:\n",
    "         \n",
    "            for i in range(n, 0, -1):\n",
    "                for j in range(i):\n",
    "                    print(\"*\", end=\" \")\n",
    "                print()\n",
    "\n",
    "        elif chon_num == 3:\n",
    "            # Hình X\n",
    "            size = 2 * n - 1\n",
    "            for i in range(size):\n",
    "                for j in range(size):\n",
    "                    if i == n - 1:                      \n",
    "                        print(\"*\", end=\" \")\n",
    "                    elif i < n - 1 and (j == 0 or j == i):   \n",
    "                        print(\"*\", end=\" \")\n",
    "                    elif i > n - 1 and (j == i or j == size - 1):  \n",
    "                        print(\"*\", end=\" \")\n",
    "                    else:\n",
    "                        print(\" \", end=\" \")\n",
    "                print()\n",
    "        else:\n",
    "            print(\"⚠ Chỉ có dữ liệu hình từ 1 đến 3 !\")\n",
    "\n",
    "        # Hỏi có muốn tiếp tục không\n",
    "        tiep = input(\"Bạn có muốn vẽ lại hình khác? (y/n): \").lower().strip()\n",
    "        if tiep != \"y\":\n",
    "            print(\"Kết thúc chương trình!\")\n",
    "            break\n",
    "\n",
    "except Exception as e:\n",
    "    print(\"Nhập sai dữ liệu!\", e)"
   ]
  },
  {
   "cell_type": "markdown",
   "id": "915ebc23",
   "metadata": {},
   "source": [
    "## Câu 19: Tính giá trị biểu thức S "
   ]
  },
  {
   "cell_type": "code",
   "execution_count": null,
   "id": "65b8d38f",
   "metadata": {},
   "outputs": [],
   "source": [
    "import math\n",
    "\n",
    "\n",
    "x = float(input(\"Nhập x: \"))\n",
    "n = int(input(\"Nhập n: \"))\n",
    "\n",
    "S = 0\n",
    "for k in range(n + 1):\n",
    "    tu_so = x ** (2 * k + 1)      \n",
    "    mau_so = math.factorial(2 * k + 1)  \n",
    "    S += tu_so / mau_so\n",
    "print(f\"S({x}, {n}) = {S}\")"
   ]
  }
 ],
 "metadata": {
  "kernelspec": {
   "display_name": "Python 3",
   "language": "python",
   "name": "python3"
  },
  "language_info": {
   "codemirror_mode": {
    "name": "ipython",
    "version": 3
   },
   "file_extension": ".py",
   "mimetype": "text/x-python",
   "name": "python",
   "nbconvert_exporter": "python",
   "pygments_lexer": "ipython3",
   "version": "3.13.3"
  }
 },
 "nbformat": 4,
 "nbformat_minor": 5
}
