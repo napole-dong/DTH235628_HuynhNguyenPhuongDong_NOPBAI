{
 "cells": [
  {
   "cell_type": "markdown",
   "id": "ec7326a0",
   "metadata": {},
   "source": [
    "bai1"
   ]
  },
  {
   "cell_type": "code",
   "execution_count": null,
   "id": "c33e7bee",
   "metadata": {},
   "outputs": [],
   "source": [
    "def CheckDoiXung(s):\n",
    "    flag = True\n",
    "    for i in range(len(s)):\n",
    "        if s[i] != s[len(s) - i - 1]:\n",
    "            flag = False\n",
    "        break\n",
    "    return flag\n",
    "\n",
    "\n",
    "def main():\n",
    "    print(\"Nhập 1 chuỗi:\")\n",
    "    s = input()\n",
    "    if CheckDoiXung(s):\n",
    "        print(\"Chuỗi bạn nhập đối xứng\")\n",
    "    else:\n",
    "        print(\"Chuỗi bạn nhập không đối xứng\")\n",
    "\n",
    "\n",
    "while True:\n",
    "    main()\n",
    "    print(\"Tiếp không(c/k):\")\n",
    "    s = input()\n",
    "    if s == \"k\":\n",
    "        break\n",
    "print(\"CÁM ƠN\")"
   ]
  },
  {
   "cell_type": "markdown",
   "id": "c684a710",
   "metadata": {},
   "source": [
    "bai2"
   ]
  },
  {
   "cell_type": "code",
   "execution_count": null,
   "id": "44118674",
   "metadata": {},
   "outputs": [],
   "source": [
    "def ToiUuChuoi(s):\n",
    "    s2 = s\n",
    "    s2 = s2.strip()\n",
    "    arr = s2.split(\" \")\n",
    "    s2 = \"\"\n",
    "    for x in arr:\n",
    "        word = x\n",
    "        if len(word.strip()) != 0:\n",
    "            s2 = s2 + word + \" \"\n",
    "    return s2.strip()\n",
    "\n",
    "\n",
    "s = input(\"Nhập vào một chuỗi :\")\n",
    "print(s, \"=>\", len(s))\n",
    "s = ToiUuChuoi(s)\n",
    "print(s, \"=>\", len(s))"
   ]
  },
  {
   "cell_type": "markdown",
   "id": "069e6415",
   "metadata": {},
   "source": [
    "bai3"
   ]
  },
  {
   "cell_type": "code",
   "execution_count": null,
   "id": "6d77c845",
   "metadata": {},
   "outputs": [],
   "source": [
    "def CheckPrime(x):\n",
    "    dem = 0\n",
    "    for i in range(1, x + 1):\n",
    "        if x % i == 0:\n",
    "            dem += 1\n",
    "    return dem == 2\n",
    "\n",
    "\n",
    "try:\n",
    "    s = input(\"Nhập vào chuỗi (...;...) :\")\n",
    "    arr = s.split(\";\")\n",
    "    sochan = 0\n",
    "    soam = 0\n",
    "    sont = 0\n",
    "    sum = 0\n",
    "    print(\"Các chữ số: \", end=\"\")\n",
    "    for x in arr:\n",
    "        print(\"\", x, end=\"\")\n",
    "        number = int(x)\n",
    "        if number % 2 == 0:\n",
    "            sochan += 1\n",
    "        if number < 0:\n",
    "            soam += 1\n",
    "        if CheckPrime(number):\n",
    "            sont += 1\n",
    "        sum = sum + number\n",
    "    print()\n",
    "    print(\"Số chẵn =\", sochan)\n",
    "    print(\"Số âm =\", soam)\n",
    "    print(\"Số Nguyên tố =\", sont)\n",
    "    print(\"Trung bình=\", sum / len(arr))\n",
    "except:\n",
    "    print(\"Nhập sai dữ liệu !\")"
   ]
  },
  {
   "cell_type": "markdown",
   "id": "34e72e1e",
   "metadata": {},
   "source": [
    "bai5"
   ]
  },
  {
   "cell_type": "code",
   "execution_count": null,
   "id": "aaa9197c",
   "metadata": {},
   "outputs": [],
   "source": [
    "def ChuHoa(chuoi):\n",
    "    dem = 0\n",
    "    for i in chuoi:\n",
    "        if ord(i) <= 90 and ord(i) >= 65:\n",
    "            dem += 1\n",
    "    return dem\n",
    "\n",
    "\n",
    "def ChuThuong(chuoi):\n",
    "    dem = 0\n",
    "    for i in chuoi:\n",
    "        if ord(i) <= 122 and ord(i) >= 97:\n",
    "            dem += 1\n",
    "    return dem\n",
    "\n",
    "\n",
    "chuoi = input(\"Nhập vào chuỗi :\")\n",
    "print(\"chu hoa:\", ChuHoa(chuoi))\n",
    "# ChuThuong(chuoi)"
   ]
  },
  {
   "cell_type": "markdown",
   "id": "58fe8de2",
   "metadata": {},
   "source": [
    "bai6"
   ]
  },
  {
   "cell_type": "code",
   "execution_count": null,
   "id": "81c04422",
   "metadata": {},
   "outputs": [],
   "source": [
    "import re\n",
    "\n",
    "\n",
    "def NegativeNumberInStrings(s: str):\n",
    "    numbers = re.findall(r\"-\\d+\", s)\n",
    "    return [int(num) for num in numbers]\n",
    "\n",
    "\n",
    "s = input(\"Nhập vào một chuỗi:\")\n",
    "print(NegativeNumberInStrings(s))"
   ]
  },
  {
   "cell_type": "markdown",
   "id": "904bc06e",
   "metadata": {},
   "source": [
    "bai7"
   ]
  },
  {
   "cell_type": "code",
   "execution_count": null,
   "id": "ef534680",
   "metadata": {},
   "outputs": [],
   "source": [
    "def ToiUuChuoiDanhTu(s: str):\n",
    "    words = s.strip().split()\n",
    "    words = [w.capitalize() for w in words]\n",
    "    return \" \".join(words)\n",
    "\n",
    "\n",
    "s = input(\"Nhập vào một chuỗi:\")\n",
    "print(ToiUuChuoiDanhTu(s))"
   ]
  },
  {
   "cell_type": "markdown",
   "id": "5a296a2d",
   "metadata": {},
   "source": [
    "bai8"
   ]
  },
  {
   "cell_type": "code",
   "execution_count": null,
   "id": "e6d8fb29",
   "metadata": {},
   "outputs": [],
   "source": [
    "import os\n",
    "\n",
    "\n",
    "def get_filename(path: str):\n",
    "    return os.path.basename(path)\n",
    "\n",
    "\n",
    "def get_filename_no_ext(path: str):\n",
    "    return os.path.splitext(os.path.basename(path))[0]\n",
    "\n",
    "\n",
    "# path = r\"d:\\music\\muabui.mp3\"\n",
    "path = input(\"Nhập đường dẫn: \")\n",
    "print(get_filename(path))\n",
    "print(get_filename_no_ext(path))"
   ]
  }
 ],
 "metadata": {
  "language_info": {
   "name": "python"
  }
 },
 "nbformat": 4,
 "nbformat_minor": 5
}
