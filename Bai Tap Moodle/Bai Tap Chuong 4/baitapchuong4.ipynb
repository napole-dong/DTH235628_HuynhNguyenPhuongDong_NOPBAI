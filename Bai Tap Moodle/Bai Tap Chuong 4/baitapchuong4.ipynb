{
 "cells": [
  {
   "cell_type": "markdown",
   "id": "7d39d594",
   "metadata": {},
   "source": [
    "# Bài tập Chương 4\n",
    "\n",
    "Notebook chứa mã từ `Bai1.py` đến `Bai13.py`. Mỗi ô code bên dưới tương ứng với một file."
   ]
  },
  {
   "cell_type": "markdown",
   "id": "5537da80",
   "metadata": {},
   "source": [
    "### Bài 1 — Tính diện tích tam giác"
   ]
  },
  {
   "cell_type": "code",
   "execution_count": null,
   "id": "60f34685",
   "metadata": {},
   "outputs": [],
   "source": [
    "from math import sqrt\n",
    "\n",
    "print(\"Tinh dien tich tam giac theo cong thuc Heron\")\n",
    "\n",
    "a = float(input(\"Nhap canh a: \"))\n",
    "b = float(input(\"Nhap canh b: \"))\n",
    "c = float(input(\"Nhap canh c: \"))\n",
    "\n",
    "p = (a + b + c) / 2\n",
    "\n",
    "if a + b > c and a + c > b and b + c > a:\n",
    "    s = sqrt(p * (p - a) * (p - b) * (p - c))\n",
    "    print(\"Dien tich tam giac la:\", s)\n",
    "else:\n",
    "    print(\"Ba canh tren khong tao thanh mot tam giac hop le\")"
   ]
  },
  {
   "cell_type": "markdown",
   "id": "108915e2",
   "metadata": {},
   "source": [
    "### Bài 2 — Trò chơi đoán số "
   ]
  },
  {
   "cell_type": "code",
   "execution_count": null,
   "id": "37db5b24",
   "metadata": {},
   "outputs": [],
   "source": [
    "from random import randrange\n",
    "\n",
    "print(\"Doan so: Chon mot so ngau nhien giua 1 va 100\")\n",
    "\n",
    "secret = randrange(1, 101)\n",
    "\n",
    "for i in range(1, 8):\n",
    "    guess = int(input(f\"Lan thu {i}: Nhap so cua ban: \"))\n",
    "    if guess == secret:\n",
    "        print(\"Chuc mung! Ban da doan dung.\")\n",
    "        break\n",
    "    elif guess < secret:\n",
    "        print(\"So ban nho hon so can doan.\")\n",
    "    else:\n",
    "        print(\"So ban lon hon so can doan.\")\n",
    "else:\n",
    "    print(\"Ban da het so lan thu. So dung la:\", secret)"
   ]
  },
  {
   "cell_type": "markdown",
   "id": "ef9c886e",
   "metadata": {},
   "source": [
    "### Bài 3 — Tính BMI"
   ]
  },
  {
   "cell_type": "code",
   "execution_count": null,
   "id": "d3b146ce",
   "metadata": {},
   "outputs": [],
   "source": [
    "def tinh_bmi(can_nang, chieu_cao):\n",
    "    return can_nang / (chieu_cao ** 2)\n",
    "\n",
    "\n",
    "def phan_loai_bmi(bmi):\n",
    "    if bmi < 18.5:\n",
    "        return \"Gay\"\n",
    "    elif bmi < 25:\n",
    "        return \"Binh thuong\"\n",
    "    elif bmi < 30:\n",
    "        return \"Thua can\"\n",
    "    else:\n",
    "        return \"Beo phi\"\n",
    "\n",
    "\n",
    "can_nang = float(input(\"Nhap can nang (kg): \"))\n",
    "chieu_cao = float(input(\"Nhap chieu cao (m): \"))\n",
    "\n",
    "bmi = tinh_bmi(can_nang, chieu_cao)\n",
    "print(f\"BMI = {bmi:.2f} — {phan_loai_bmi(bmi)}\")"
   ]
  },
  {
   "cell_type": "markdown",
   "id": "8bcc29f1",
   "metadata": {},
   "source": [
    "### Bài 4 — ROI và gợi ý đầu tư "
   ]
  },
  {
   "cell_type": "code",
   "execution_count": null,
   "id": "bae8fad4",
   "metadata": {},
   "outputs": [],
   "source": [
    "def ROI(dt, cp):\n",
    "    return (dt - cp) / cp * 100\n",
    "\n",
    "\n",
    "def goi_y_dau_tu(roi):\n",
    "    if roi < 5:\n",
    "        return \"Neu co the, dat vao tai kha nang tang truong cao hon\"\n",
    "    elif roi < 15:\n",
    "        return \"Dau tu hop ly\"\n",
    "    else:\n",
    "        return \"Co the la co rui ro cao\""
   ]
  },
  {
   "cell_type": "markdown",
   "id": "4a0b3eb6",
   "metadata": {},
   "source": [
    "### Bài 5 — Dãy Fibonacci "
   ]
  },
  {
   "cell_type": "code",
   "execution_count": null,
   "id": "4f81d342",
   "metadata": {},
   "outputs": [],
   "source": [
    "def fibonacci(n):\n",
    "    if n <= 1:\n",
    "        return n\n",
    "    else:\n",
    "        return fibonacci(n-1) + fibonacci(n-2)\n",
    "\n",
    "\n",
    "def listfibo(n):\n",
    "    return [fibonacci(i) for i in range(n)]\n",
    "\n",
    "n = int(input(\"Nhap so phan tu can in: \"))\n",
    "print(listfibo(n))"
   ]
  },
  {
   "cell_type": "markdown",
   "id": "b62bdbaf",
   "metadata": {},
   "source": [
    "### Bài 6 — Ghi chú về randrange "
   ]
  },
  {
   "cell_type": "code",
   "execution_count": null,
   "id": "ce1684c0",
   "metadata": {},
   "outputs": [],
   "source": [
    "# Luu y: randrange(a, b) tra ve gia tri trong khoang [a, b)\n",
    "print(\"randrange(a, b) tra ve gia tri tu a den b-1\")"
   ]
  },
  {
   "cell_type": "markdown",
   "id": "d14852c2",
   "metadata": {},
   "source": [
    "### Bài 7 — Tách và tính khoảng cách "
   ]
  },
  {
   "cell_type": "code",
   "execution_count": null,
   "id": "c7dc0659",
   "metadata": {},
   "outputs": [],
   "source": [
    "import math\n",
    "\n",
    "\n",
    "def tach_toa_do(s):\n",
    "    s = s.strip()\n",
    "    s = s[s.find('(')+1 : s.find(')')]\n",
    "    x, y = s.split(',')\n",
    "    return float(x), float(y)\n",
    "\n",
    "\n",
    "sA = input(\"Nhap diem A theo dinh dang A(x,y): \")\n",
    "sB = input(\"Nhap diem B theo dinh dang B(x,y): \")\n",
    "\n",
    "Ax, Ay = tach_toa_do(sA)\n",
    "Bx, By = tach_toa_do(sB)\n",
    "\n",
    "dAB = math.sqrt((Ax - Bx)**2 + (Ay - By)**2)\n",
    "print(f\"Khoang cach AB = {dAB}\")"
   ]
  },
  {
   "cell_type": "markdown",
   "id": "f69e2f82",
   "metadata": {},
   "source": [
    "### Bài 8 — Log cơ số a "
   ]
  },
  {
   "cell_type": "code",
   "execution_count": null,
   "id": "09312183",
   "metadata": {},
   "outputs": [],
   "source": [
    "import math\n",
    "\n",
    "\n",
    "def log_a(x, a):\n",
    "    return math.log(x) / math.log(a)\n",
    "\n",
    "x = float(input(\"Nhap x: \"))\n",
    "a = float(input(\"Nhap co so a: \"))\n",
    "print(f\"Log_{a}({x}) = {log_a(x, a)}\")"
   ]
  },
  {
   "cell_type": "markdown",
   "id": "c82872cc",
   "metadata": {},
   "source": [
    "### Bài 9 — Căn bậc hai lồng nhau "
   ]
  },
  {
   "cell_type": "code",
   "execution_count": null,
   "id": "76cfaa46",
   "metadata": {},
   "outputs": [],
   "source": [
    "import math\n",
    "\n",
    "\n",
    "def s(n):\n",
    "    if n == 1:\n",
    "        return math.sqrt(2)\n",
    "    else:\n",
    "        return math.sqrt(2 + s(n - 1))\n",
    "\n",
    "n = int(input(\"Nhap n: \"))\n",
    "print(s(n))"
   ]
  },
  {
   "cell_type": "markdown",
   "id": "d58cc01d",
   "metadata": {},
   "source": [
    "### Bài 10 — Hiển thị hình ASCII "
   ]
  },
  {
   "cell_type": "code",
   "execution_count": null,
   "id": "671e52c4",
   "metadata": {},
   "outputs": [],
   "source": [
    "import time\n",
    "\n",
    "\n",
    "def show_shapes():\n",
    "    print(\"  *\")\n",
    "    time.sleep(0.2)\n",
    "    print(\" ***\")\n",
    "    time.sleep(0.2)\n",
    "    print(\"*****\")\n",
    "\n",
    "show_shapes()"
   ]
  },
  {
   "cell_type": "markdown",
   "id": "0a4390f2",
   "metadata": {},
   "source": [
    "### Bài 11 — Biến toàn cục và hàm "
   ]
  },
  {
   "cell_type": "code",
   "execution_count": null,
   "id": "2992a2fd",
   "metadata": {},
   "outputs": [],
   "source": [
    "val = 10\n",
    "\n",
    "\n",
    "def sum1(n):\n",
    "    s = 0\n",
    "    for i in range(1, n+1):\n",
    "        s += i\n",
    "    return s\n",
    "\n",
    "\n",
    "def sum2(n):\n",
    "    return sum(range(1, n+1))\n",
    "\n",
    "\n",
    "def sum3(n):\n",
    "    global val\n",
    "    val += 1\n",
    "    return val\n",
    "\n",
    "print(sum1(5), sum2(5), sum3(5))"
   ]
  },
  {
   "cell_type": "markdown",
   "id": "0e1f22b2",
   "metadata": {},
   "source": [
    "### Bài 12 — Generator altern "
   ]
  },
  {
   "cell_type": "code",
   "execution_count": null,
   "id": "0af94c86",
   "metadata": {},
   "outputs": [],
   "source": [
    "def oscillate(a, b):\n",
    "    while True:\n",
    "        yield a\n",
    "        yield -b\n",
    "\n",
    "it = oscillate(1, 2)\n",
    "for _ in range(6):\n",
    "    print(next(it))"
   ]
  },
  {
   "cell_type": "markdown",
   "id": "2170b9c5",
   "metadata": {},
   "source": [
    "### Bài 13 — Số hoàn thiện / Thịnh vượng "
   ]
  },
  {
   "cell_type": "code",
   "execution_count": null,
   "id": "a49138f5",
   "metadata": {},
   "outputs": [
    {
     "ename": "",
     "evalue": "",
     "output_type": "error",
     "traceback": [
      "\u001b[1;31mRunning cells with 'Python 3.13.7' requires the ipykernel package.\n",
      "\u001b[1;31mInstall 'ipykernel' into the Python environment. \n",
      "\u001b[1;31mCommand: '/bin/python -m pip install ipykernel -U --user --force-reinstall'"
     ]
    }
   ],
   "source": [
    "import math\n",
    "\n",
    "\n",
    "def tong_uoc(n):\n",
    "    s = 1\n",
    "    can = int(math.sqrt(n))\n",
    "    for i in range(2, can + 1):\n",
    "        if n % i == 0:\n",
    "            s += i\n",
    "            if i != n // i and n // i != n:\n",
    "                s += n // i\n",
    "    return s\n",
    "\n",
    "\n",
    "def la_hoan_thien(n):\n",
    "    return tong_uoc(n) == n\n",
    "\n",
    "\n",
    "def la_thinh_vuong(n):\n",
    "    return tong_uoc(n) > n\n",
    "\n",
    "\n",
    "while True:\n",
    "    n = int(input(\"Nhập số nguyên dương n: \"))\n",
    "\n",
    "    if la_hoan_thien(n):\n",
    "        print(f\"{n} là số hoàn thiện.\")\n",
    "    elif la_thinh_vuong(n):\n",
    "        print(f\"{n} là số thịnh vượng.\")\n",
    "    else:\n",
    "        print(f\"{n} không phải số hoàn thiện, cũng không phải số thịnh vượng.\")\n",
    "\n",
    "    tiep = input(\"Bạn có muốn nhập tiếp không? (c/k): \").lower().strip()\n",
    "\n",
    "    if tiep in [\"c\", \"co\", \"có\"]:\n",
    "        continue\n",
    "    else:\n",
    "        print(\"Kết thúc chương trình.\")\n",
    "        break\n"
   ]
  }
 ],
 "metadata": {
  "kernelspec": {
   "display_name": "Python 3",
   "language": "python",
   "name": "python3"
  },
  "language_info": {
   "name": "python",
   "version": "3.13.7"
  }
 },
 "nbformat": 4,
 "nbformat_minor": 5
}
