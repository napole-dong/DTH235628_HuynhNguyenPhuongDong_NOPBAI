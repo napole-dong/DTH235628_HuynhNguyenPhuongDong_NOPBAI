{
 "cells": [
  {
   "cell_type": "code",
   "execution_count": 8,
   "id": "34efa1c8",
   "metadata": {},
   "outputs": [
    {
     "name": "stdout",
     "output_type": "stream",
     "text": [
      "albert einstein da tung noi: mot nguoi khong bao gio mac sai lam khong bao gio thu bat ki dieu gi moi\n"
     ]
    }
   ],
   "source": [
    "print('albert einstein da tung noi: mot nguoi khong bao gio mac sai lam khong bao gio thu bat ki dieu gi moi')"
   ]
  },
  {
   "cell_type": "code",
   "execution_count": 5,
   "id": "755d1903",
   "metadata": {},
   "outputs": [
    {
     "name": "stdout",
     "output_type": "stream",
     "text": [
      "9\n"
     ]
    }
   ],
   "source": [
    "import math_libs\n",
    "print(math_libs.add(4, 5))"
   ]
  },
  {
   "cell_type": "code",
   "execution_count": null,
   "id": "d238621a",
   "metadata": {},
   "outputs": [],
   "source": [
    "print(' chao cac ban!')\n",
    "print('Huynh Nguyen Phuong Dong')"
   ]
  }
 ],
 "metadata": {
  "kernelspec": {
   "display_name": "Python 3",
   "language": "python",
   "name": "python3"
  },
  "language_info": {
   "codemirror_mode": {
    "name": "ipython",
    "version": 3
   },
   "file_extension": ".py",
   "mimetype": "text/x-python",
   "name": "python",
   "nbconvert_exporter": "python",
   "pygments_lexer": "ipython3",
   "version": "3.13.3"
  }
 },
 "nbformat": 4,
 "nbformat_minor": 5
}
